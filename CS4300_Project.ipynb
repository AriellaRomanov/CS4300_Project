{
  "nbformat": 4,
  "nbformat_minor": 0,
  "metadata": {
    "colab": {
      "name": "CS4300_Project.ipynb",
      "provenance": [],
      "include_colab_link": true
    },
    "kernelspec": {
      "name": "python3",
      "display_name": "Python 3"
    }
  },
  "cells": [
    {
      "cell_type": "markdown",
      "metadata": {
        "id": "view-in-github",
        "colab_type": "text"
      },
      "source": [
        "<a href=\"https://colab.research.google.com/github/AriellaRomanov/CS4300_Project/blob/master/CS4300_Project.ipynb\" target=\"_parent\"><img src=\"https://colab.research.google.com/assets/colab-badge.svg\" alt=\"Open In Colab\"/></a>"
      ]
    },
    {
      "cell_type": "code",
      "metadata": {
        "id": "_s-ivg--PiG-",
        "colab_type": "code",
        "colab": {
          "base_uri": "https://localhost:8080/",
          "height": 238
        },
        "outputId": "936d573a-d9b0-455a-845f-8e181e8e786c"
      },
      "source": [
        "from keras.models import Sequential\n",
        "from keras.layers import Dense\n",
        "import numpy as np\n",
        "import matplotlib.pyplot as plt\n",
        "\n",
        "datapath = 'https://raw.githubusercontent.com/AriellaRomanov/CS4300_Project/master/data_winequality-red.csv'\n",
        "dataset = np.genfromtxt(datapath, skip_header=1, delimiter=',')\n",
        "\n",
        "print('')\n",
        "print(dataset.shape)\n",
        "print('')\n",
        "print(dataset[0:5])"
      ],
      "execution_count": 41,
      "outputs": [
        {
          "output_type": "stream",
          "text": [
            "\n",
            "(1599, 12)\n",
            "\n",
            "[[7.40e+00 7.00e-01 0.00e+00 1.90e+00 8.00e-02 1.10e+01 3.40e+01 1.00e+00\n",
            "  3.51e+00 5.60e-01 9.40e+00 5.00e+00]\n",
            " [7.80e+00 8.80e-01 0.00e+00 2.60e+00 1.00e-01 2.50e+01 6.70e+01 1.00e+00\n",
            "  3.20e+00 6.80e-01 9.80e+00 5.00e+00]\n",
            " [7.80e+00 7.60e-01 4.00e-02 2.30e+00 9.00e-02 1.50e+01 5.40e+01 1.00e+00\n",
            "  3.26e+00 6.50e-01 9.80e+00 5.00e+00]\n",
            " [1.12e+01 2.80e-01 5.60e-01 1.90e+00 8.00e-02 1.70e+01 6.00e+01 1.00e+00\n",
            "  3.16e+00 5.80e-01 9.80e+00 6.00e+00]\n",
            " [7.40e+00 7.00e-01 0.00e+00 1.90e+00 8.00e-02 1.10e+01 3.40e+01 1.00e+00\n",
            "  3.51e+00 5.60e-01 9.40e+00 5.00e+00]]\n"
          ],
          "name": "stdout"
        }
      ]
    }
  ]
}